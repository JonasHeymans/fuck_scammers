{
 "cells": [
  {
   "cell_type": "code",
   "execution_count": 1,
   "metadata": {
    "collapsed": true
   },
   "outputs": [],
   "source": [
    "str = 'https://tradeocom.typeform.com/to/YcCDBiwJ?offer_id=40&aff_id=1416&url_id=80&aff_sub=79798b764c2f6207d865517612d3f796&aff_sub2=x&aff_sub3=690260&aff_sub4=x&aff_sub=5x'"
   ]
  },
  {
   "cell_type": "code",
   "execution_count": 2,
   "outputs": [
    {
     "data": {
      "text/plain": "['https://tradeocom.typeform.com/to/YcCDBiwJ?offer_id=40',\n 'aff_id=1416',\n 'url_id=80',\n 'aff_sub=79798b764c2f6207d865517612d3f796',\n 'aff_sub2=x',\n 'aff_sub3=690260',\n 'aff_sub4=x',\n 'aff_sub=5x']"
     },
     "execution_count": 2,
     "metadata": {},
     "output_type": "execute_result"
    }
   ],
   "source": [
    "str.split('&')"
   ],
   "metadata": {
    "collapsed": false,
    "pycharm": {
     "name": "#%%\n"
    }
   }
  },
  {
   "cell_type": "code",
   "execution_count": null,
   "outputs": [],
   "source": [
    "\n"
   ],
   "metadata": {
    "collapsed": false,
    "pycharm": {
     "name": "#%%\n"
    }
   }
  }
 ],
 "metadata": {
  "kernelspec": {
   "display_name": "Python 3",
   "language": "python",
   "name": "python3"
  },
  "language_info": {
   "codemirror_mode": {
    "name": "ipython",
    "version": 2
   },
   "file_extension": ".py",
   "mimetype": "text/x-python",
   "name": "python",
   "nbconvert_exporter": "python",
   "pygments_lexer": "ipython2",
   "version": "2.7.6"
  }
 },
 "nbformat": 4,
 "nbformat_minor": 0
}